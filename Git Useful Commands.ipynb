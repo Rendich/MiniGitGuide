{
 "cells": [
  {
   "cell_type": "markdown",
   "metadata": {},
   "source": [
    "# Simple Command List"
   ]
  },
  {
   "cell_type": "markdown",
   "metadata": {},
   "source": [
    "- Init repo  \n",
    "cd < THE_FOLDER >  \n",
    "git init"
   ]
  },
  {
   "cell_type": "markdown",
   "metadata": {},
   "source": [
    "- Add new remote repo, and check it\n",
    "\n",
    "git remote add origin https://github.com/NeoRichard/GitUsefulCommands\n",
    "\n",
    "git remote -v\n",
    "\n"
   ]
  },
  {
   "cell_type": "markdown",
   "metadata": {},
   "source": [
    "- Add unrelated histories\n",
    "\n",
    "git pull origin master --allow-unrelated-histories\n"
   ]
  },
  {
   "cell_type": "markdown",
   "metadata": {},
   "source": [
    "- Pull  \n",
    "\n",
    "git pull origin master"
   ]
  },
  {
   "cell_type": "markdown",
   "metadata": {},
   "source": [
    "- Push  \n",
    "\n",
    "git push origin master"
   ]
  },
  {
   "cell_type": "markdown",
   "metadata": {},
   "source": [
    "- Move file(s)/folder      \n",
    "\n",
    "First, check the status:    \n",
    "```\n",
    "git status    \n",
    "On branch master    \n",
    "Changes to be committed:    \n",
    "  (use \"git restore --staged <file>...\" to unstage)    \n",
    "\tnew file:   Demo1/Demo_Face1.ipynb    \n",
    "\tnew file:   Demo1/test1.jpg    \n",
    "\tnew file:   Demo1/test2.jpg   \n",
    "\n",
    "\n",
    "Changes not staged for commit:    \n",
    "  (use \"git add/rm <file>...\" to update what will be committed)    \n",
    "  (use \"git restore <file>...\" to discard changes in working directory)    \n",
    "\tdeleted:    Demo_Face1.ipynb    \n",
    "\tdeleted:    test1.jpg    \n",
    "\tdeleted:    test2.jpg    ```\n",
    "\n",
    "\n",
    "Now, let add the folder\n",
    "```\n",
    "git add Demo1/    \n",
    "```\n",
    "And finally remove the older files\n",
    "```\n",
    "git rm test1.jpg test2.jpg Demo_Face1.ipynb    \n",
    "```\n"
   ]
  },
  {
   "cell_type": "markdown",
   "metadata": {},
   "source": [
    "# Convention suggested"
   ]
  },
  {
   "cell_type": "markdown",
   "metadata": {},
   "source": [
    "Based on [this guide](https://la-guia.platan.us/herramientas/git):"
   ]
  },
  {
   "cell_type": "markdown",
   "metadata": {},
   "source": [
    "## Commits\n",
    "Commit messages:\n",
    "- in english\n",
    "- usually one line\n",
    "- < type >< context >: < description >"
   ]
  },
  {
   "cell_type": "markdown",
   "metadata": {},
   "source": [
    "### Type\n",
    "Explain the type of commit:\n",
    "- feat: new feature\n",
    "- fix: fix a bug\n",
    "- docs: change in documentation\n",
    "- style: changes whitout impact on code (spaces, identation, etc)\n",
    "- refactor: change on code that not add functionality nor fix a bug\n",
    "- perf: changes that improve performance\n",
    "- test: add, fix or improve test\n",
    "- chore: changes on build proccess and tools\n"
   ]
  },
  {
   "cell_type": "markdown",
   "metadata": {},
   "source": [
    "### Context\n",
    "Word that reference the code or functionality place that impact commit. Examples:\n",
    "- user-signup\n",
    "- api/LoginService\n"
   ]
  },
  {
   "cell_type": "markdown",
   "metadata": {},
   "source": [
    "### Description\n",
    "- Imperative: \"change\", not \"changed\" neither \"changes\"\n",
    "- one space from context\n",
    "- starting with lowercase\n",
    "- without final point (.)"
   ]
  },
  {
   "cell_type": "code",
   "execution_count": null,
   "metadata": {},
   "outputs": [],
   "source": []
  }
 ],
 "metadata": {
  "kernelspec": {
   "display_name": "Python 3",
   "language": "python",
   "name": "python3"
  },
  "language_info": {
   "codemirror_mode": {
    "name": "ipython",
    "version": 3
   },
   "file_extension": ".py",
   "mimetype": "text/x-python",
   "name": "python",
   "nbconvert_exporter": "python",
   "pygments_lexer": "ipython3",
   "version": "3.7.7"
  }
 },
 "nbformat": 4,
 "nbformat_minor": 4
}
